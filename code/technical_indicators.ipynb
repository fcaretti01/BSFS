{
 "cells": [
  {
   "cell_type": "markdown",
   "metadata": {},
   "source": [
    "\n",
    "### **Objective:**\n",
    "- Analyze and generate technical indicators from stock price data.\n",
    "- Assess their predictive power for price movements or returns using statistical and machine learning techniques.\n",
    "- Perform ablation studies to evaluate the significance of individual features.\n",
    "\n",
    "---\n",
    "\n",
    "### **Exercise Steps:**\n",
    "\n",
    "\n",
    "#### **1. Generate Technical Indicators**\n",
    "- **Task**: Compute a wide range of technical indicators.\n",
    "- **Skills Tested**:\n",
    "  - Usage of libraries like `ta` (technical analysis library) or manual computation.\n",
    "  - Feature engineering for time-series data.\n",
    "- **Indicators to Implement**:\n",
    "  - **Trend Indicators**: Moving Averages (SMA, EMA), Bollinger Bands.\n",
    "  - **Momentum Indicators**: RSI, MACD, Stochastic Oscillator.\n",
    "  - **Volume Indicators**: OBV, Accumulation/Distribution Line.\n",
    "  - **Volatility Indicators**: ATR, Standard Deviation.\n",
    "  - **Custom Features**: Lagged returns, log prices.\n",
    "- **Output**: DataFrame with added technical features.\n",
    "\n",
    "#### **2. Predictive Power Analysis**\n",
    "- **Task**: Create labels for predictive analysis.\n",
    "- **To implement**:\n",
    "  - Binary classification: Price up (1) or down (0). (logit regression)\n",
    "  - Regression: Predict next day/period returns. (OLS or something of the sort)\n",
    "- **Output**: Regression results.\n",
    "\n",
    "#### **4. Feature Analysis**\n",
    "- **Task**: Analyze the technical indicators.\n",
    "- **Skills Tested**:\n",
    "  - Correlation analysis (heatmaps, VIF for multicollinearity).\n",
    "  - Visualizing trends with selected indicators.\n",
    "  - Hypothesis testing (t-tests, etc) to determine feature relevance.\n",
    "- **Output**: Insights into which indicators show potential predictive power.\n",
    "\n",
    "\n",
    "#### **5. Ablation Study**\n",
    "- **Task**: Evaluate the importance of each feature.\n",
    "- **Skills Tested**:\n",
    "  - Systematically remove one indicator at a time.\n",
    "  - Measure change in predictive performance.\n",
    "- **Output**: Chart showing feature importance and its effect on model accuracy.\n",
    "\n",
    "\n",
    "\n"
   ]
  },
  {
   "cell_type": "markdown",
   "metadata": {},
   "source": [
    "___\n",
    "\n",
    "# Resources:\n",
    "\n",
    "Articles:\n",
    "1. A-Z List of All the Indicators/Studies in Stock Market\n",
    "2. The Ultimate List of Technical Indicators for Trading\n",
    "\n",
    "Papers:\n",
    "1. Feature Selection and Regression Methods for Stock Price Prediction Using Technical Indicators\n",
    "2. Technical Analysis in the Stock Market: A Review\n",
    "3. A Systematic Review of Fundamental and Technical Analysis of Stock Market Movements\n"
   ]
  }
 ],
 "metadata": {
  "language_info": {
   "name": "python"
  }
 },
 "nbformat": 4,
 "nbformat_minor": 2
}
