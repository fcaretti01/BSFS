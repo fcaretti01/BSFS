{
 "cells": [
  {
   "cell_type": "markdown",
   "metadata": {},
   "source": [
    "You have hired a just a hired a hedge fund manager to run a separately managed account for you. The manager is Ms. Polly Anna Afelis of Braggadocio Capital Management (BCM). She has showed you a series of backtests that you believe are very well-down and realistic, incorporating everything you have learned to date about good quantitative testing of models, including out-of-sample tests, numerous robustness checks, many techniques for minimizing the possibility of out-of-sample, and you believe it is innovative and using relatively unique data."
   ]
  },
  {
   "cell_type": "markdown",
   "metadata": {},
   "source": [
    "Your best estimate is that the true return generating capability of BCM will be 8% annualized returns with an annualized standard deviation of 4%. So the expected Sharpe Ratio of BCM is 2.0."
   ]
  },
  {
   "cell_type": "markdown",
   "metadata": {},
   "source": [
    "A. Assume the returns for BCM are normally, independently and identically distributed with the expected returns and standard deviations described above.\n",
    "    \n",
    "    i. What is the probability that BCM will lose money in any given year?\n",
    "    \n",
    "    ii. What is the probability that BCM will lose money in any given quarter?\n",
    "    \n",
    "    iii. What is the probability that BCM will lose money in any given month?\n",
    "    \n",
    "    iv. What is the probability that BCM will lose money on any given day?\n",
    "    \n",
    "    v. If you invested $500 million with BCM, what is the expected value of the dollars of the PnL you expect to earn at the end of the first quarter? What is the +/- 2 standard deviation of dollars of PnL you would expect to earn?"
   ]
  },
  {
   "cell_type": "code",
   "execution_count": null,
   "metadata": {},
   "outputs": [],
   "source": [
    "# Your Answer Here"
   ]
  },
  {
   "cell_type": "markdown",
   "metadata": {},
   "source": [
    "B. For the general set-up of the investment strategies described in (A) please calculate the winning rate (i.e. percent of days your strategy earns money) and please calculate the up-down ratio (i.e. the average $ on PnL earned on up days / absolute value of $ PnL lost on down days).\n",
    "    \n",
    "    i. Now if you vary the standard deviation by 0.25 ranging from (2, 12) but hold the expected return constant from above, how does the winning rate, up-down ratio and Sharpe-Ratio change? Please put this in the form of a table with the with winning rate going down the columns, the up-down ratio going down the columns, and the Sharpe Ratio going down the columns. In other words, a table with three columns.\n",
    "    \n",
    "    ii. Now you vary the expected return by 0.25 ranging from (2, 12) but hold the standard deviation constant from above, how does the winning rate, up-down ratio and Sharpe-Ratio change? Please put this in the form of a table with the with winning rate going down the columns, the up-down ratio going down the columns, and the Sharpe Ratio going down the columns. In other words, a table with three columns.\n",
    "    \n",
    "    iii. How do you understand the relationship winning-rate, up-down ratio and Sharpe Ratio? What assumptions in this problem do you think are responsible for these results?"
   ]
  },
  {
   "cell_type": "code",
   "execution_count": null,
   "metadata": {},
   "outputs": [],
   "source": [
    "# Your answer here "
   ]
  },
  {
   "cell_type": "markdown",
   "metadata": {},
   "source": [
    "C. Let’s go back to the original set-up: Your best estimate is that the true return generating capability of BCM will be 8% annualized returns with an annualized standard deviation of 4%. So the expected Sharpe Ratio of BCM is 2.0. Assume the returns for BCM are normally, independently and identically distributed with the expected returns and standard deviations described above.\n",
    "    \n",
    "    i. If you were to hire BCM and irrevocably commit to keeping your money invested with them for a 5 year period, what is the probability you will observe them having a 90 day drawdown?\n",
    "    \n",
    "        a) Note: A drawdown is defined as the time between the fund peak $ PnL until it surpasses that previous peak $ PnL. For purposes of this calculation assume that the dollars invested in the fund remain constant (e.g. when you make money, the winnings are swept out of your account; when you lose money, the dollars are also replenished. So the dollars you are managing remain constant).\n",
    "    \n",
    "        b) Hint: There is no closed-form mathematical solution to this problem. You must do this by running a series of simulations (e.g. Monte Carlo simulations). It is up to you to decide how many “simulations” you need to run before you answer converges.\n",
    "    \n",
    "    ii. Instead of irrevocably committing your money to them for a 5 year period, imagine it is for a 10 year period and the other assumptions of (i) (a) remain the same. Over that period of time, what is the probability that you will observe them having a 90 day drawdown? What is the probability they would have 120 day drawdown? What is your intuition of observing a 90 day down, if you shorten and/or lengthen the period of time you can irrevocably commit to BCM? Explain.\n",
    "    \n",
    "    iii. Let’s say BCM is the typical start-up hedge fund. It can only get investors to lock up their capital for 1 year but all of the other assumptions of (i) (a) remain the same. As the investor in the BCM, you are trying to learn what the true Sharpe Ratio of Ms. Afelis’s team. You think the appropriate way to do this is through observing drawdowns – after all, if she is truly skilled she should lose you less money, that is have a lower probability of a drawdown. But how much lower?\n",
    "\n",
    "So please calculate the following table. Across the columns, should be the set of Sharpe Ratios ranging from -1 to 3, incrementing by 0.5. Down the columns is the length of the drawdown. Let the set of lengths of the drawdown be the following: 1 day, 3 days, 5 days, 10 days, 20 days, 40 days, 60 days, 90 days, 120 days. In the middle of the table is the probability of observing a day drown of that length or longer, given the SR at the top of the column."
   ]
  },
  {
   "cell_type": "code",
   "execution_count": null,
   "metadata": {},
   "outputs": [],
   "source": [
    "# YOur Answer Here"
   ]
  },
  {
   "cell_type": "markdown",
   "metadata": {},
   "source": [
    "D. What do the above results about drawdown probabilities teach you about the usefulness of observing drawdowns as a way to measure a manager’s skill? What lessons do you conclude?\n",
    "\n",
    "If you were a manager of a hedge fund, how does this impact the way you want to set-up your fund? Be specific.\n",
    "If you are an investor in a hedge fund, what do you think is appropriate amount of time you need before you can make any conclusions about a manager’s skill?\n",
    "\n",
    "Does observing winning rates and up-down ratios help you learn about skill?\n",
    "Please discuss in your answers here how this relates to the Limits of Arbitrage.\n",
    "Please discuss in your answers here how this relates to the Fundamental Law of Active Management.\n",
    "Please discuss in your answers here how the above also relate to how often a manager should be reporting results to investors. Discuss the pro’s and con’s of greater transparency (e.g. higher frequency of reporting performance statistics)."
   ]
  },
  {
   "cell_type": "markdown",
   "metadata": {},
   "source": [
    " ### Your answer here\n",
    " ___\n",
    "\n",
    "\n",
    " ..."
   ]
  }
 ],
 "metadata": {
  "language_info": {
   "name": "python"
  }
 },
 "nbformat": 4,
 "nbformat_minor": 2
}
